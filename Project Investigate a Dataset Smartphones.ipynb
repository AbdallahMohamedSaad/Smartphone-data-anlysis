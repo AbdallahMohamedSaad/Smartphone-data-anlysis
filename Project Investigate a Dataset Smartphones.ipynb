{
 "cells": [
  {
   "cell_type": "markdown",
   "id": "651c0c91",
   "metadata": {},
   "source": [
    "## Project Investigate a Dataset - [Smartphone Dataset March 2024]"
   ]
  },
  {
   "cell_type": "markdown",
   "id": "10a9f02c",
   "metadata": {},
   "source": [
    "## Table of Contents\n",
    "<ul>\n",
    "<li><a href=\"#intro\">Introduction</a></li>\n",
    "<li><a href=\"#wrangling\">Data Wrangling</a></li>\n",
    "<li><a href=\"#eda\">Exploratory Data Analysis</a></li>\n",
    "<li><a href=\"#conclusions\">Conclusions</a></li>\n",
    "</ul>"
   ]
  },
  {
   "cell_type": "markdown",
   "id": "748a9e04",
   "metadata": {},
   "source": [
    "<a id='intro'></a>\n",
    "## Introduction\n",
    "\n",
    "<span style=\"font-family:Impact; color: blue;\">This summery about the Smartphone Dataset March 2024 and some of info. about the data and key attrbuits</span>\n",
    "#### About dataset\n",
    "1. **Model Name**\n",
    "2. **Specification**\n",
    "3. **Display**\n",
    "4. **RAM**\n",
    "5. **Proccessor**\n",
    "6. **camera Information**\n",
    "7. **Rating**"
   ]
  },
  {
   "cell_type": "markdown",
   "id": "8b973fe9",
   "metadata": {},
   "source": [
    "# The Questions..\n",
    "1. What is the most expensive And least expensive price pased on model in dataset?\n",
    "2. What is Avrage price of SmartPhone?\n",
    "3. What is the relation between Price and Rating in SmartPhone's dataset?\n",
    "4. The price of Smartphones based on model \n",
    "5. What is Rating Distribution of Smartphones?"
   ]
  },
  {
   "cell_type": "code",
   "execution_count": 2,
   "id": "fa5a78bc",
   "metadata": {},
   "outputs": [
    {
     "name": "stderr",
     "output_type": "stream",
     "text": [
      "C:\\Users\\amsaa\\anaconda3\\Lib\\site-packages\\pandas\\core\\arrays\\masked.py:60: UserWarning: Pandas requires version '1.3.6' or newer of 'bottleneck' (version '1.3.5' currently installed).\n",
      "  from pandas.core import (\n"
     ]
    }
   ],
   "source": [
    "# This cell for packges that we need \n",
    "import pandas as pd\n",
    "import matplotlib.pyplot as plt\n",
    "import numpy as np\n",
    "import seaborn as sns\n",
    "%matplotlib inline "
   ]
  },
  {
   "cell_type": "markdown",
   "id": "77a506a1",
   "metadata": {},
   "source": [
    "<a id='wrangling'></a>\n",
    "## Data Wrangling"
   ]
  },
  {
   "cell_type": "code",
   "execution_count": 3,
   "id": "f5a373ec",
   "metadata": {},
   "outputs": [
    {
     "data": {
      "text/html": [
       "<div>\n",
       "<style scoped>\n",
       "    .dataframe tbody tr th:only-of-type {\n",
       "        vertical-align: middle;\n",
       "    }\n",
       "\n",
       "    .dataframe tbody tr th {\n",
       "        vertical-align: top;\n",
       "    }\n",
       "\n",
       "    .dataframe thead th {\n",
       "        text-align: right;\n",
       "    }\n",
       "</style>\n",
       "<table border=\"1\" class=\"dataframe\">\n",
       "  <thead>\n",
       "    <tr style=\"text-align: right;\">\n",
       "      <th></th>\n",
       "      <th>Unnamed: 0</th>\n",
       "      <th>Model</th>\n",
       "      <th>Price</th>\n",
       "      <th>Rating</th>\n",
       "      <th>Specification</th>\n",
       "      <th>Processor</th>\n",
       "      <th>RAM</th>\n",
       "      <th>Battery</th>\n",
       "      <th>Display</th>\n",
       "      <th>Camera</th>\n",
       "      <th>Memory</th>\n",
       "      <th>OperatingSystem</th>\n",
       "    </tr>\n",
       "  </thead>\n",
       "  <tbody>\n",
       "    <tr>\n",
       "      <th>0</th>\n",
       "      <td>0</td>\n",
       "      <td>iQOO Z9 5G</td>\n",
       "      <td>₹19,999</td>\n",
       "      <td>NaN</td>\n",
       "      <td>Dual Sim, 3G, 4G, 5G, VoLTE, Wi-Fi</td>\n",
       "      <td>Dimensity 7200, Octa Core, 2.8 GHz Processor</td>\n",
       "      <td>8 GB RAM, 128 GB inbuilt</td>\n",
       "      <td>5000 mAh Battery with 44W Fast Charging</td>\n",
       "      <td>6.67 inches, 1080 x 2400 px, 120 Hz Display wi...</td>\n",
       "      <td>50 MP + 2 MP Dual Rear &amp; 16 MP Front Camera</td>\n",
       "      <td>Memory Card (Hybrid), upto 1 TB</td>\n",
       "      <td>Android v14</td>\n",
       "    </tr>\n",
       "    <tr>\n",
       "      <th>1</th>\n",
       "      <td>1</td>\n",
       "      <td>Nothing Phone 2a</td>\n",
       "      <td>₹23,999</td>\n",
       "      <td>NaN</td>\n",
       "      <td>Dual Sim, 3G, 4G, 5G, VoLTE, Wi-Fi, NFC</td>\n",
       "      <td>Dimensity 7200 Pro, Octa Core, 2.8 GHz Processor</td>\n",
       "      <td>8 GB RAM, 128 GB inbuilt</td>\n",
       "      <td>5000 mAh Battery with 45W Fast Charging</td>\n",
       "      <td>6.7 inches, 1084 x 2412 px, 120 Hz Display wit...</td>\n",
       "      <td>50 MP + 50 MP Dual Rear &amp; 32 MP Front Camera</td>\n",
       "      <td>Android v14</td>\n",
       "      <td>No FM Radio</td>\n",
       "    </tr>\n",
       "    <tr>\n",
       "      <th>2</th>\n",
       "      <td>2</td>\n",
       "      <td>Vivo V30 Pro 5G</td>\n",
       "      <td>₹41,999</td>\n",
       "      <td>NaN</td>\n",
       "      <td>Dual Sim, 3G, 4G, 5G, VoLTE, Wi-Fi</td>\n",
       "      <td>Dimensity 8200, Octa Core, 3.1 GHz Processor</td>\n",
       "      <td>8 GB RAM, 256 GB inbuilt</td>\n",
       "      <td>5000 mAh Battery with 80W Fast Charging</td>\n",
       "      <td>6.78 inches, 1260 x 2800 px, 120 Hz Display wi...</td>\n",
       "      <td>50 MP + 50 MP + 50 MP Triple Rear &amp; 50 MP Fron...</td>\n",
       "      <td>Memory Card Not Supported</td>\n",
       "      <td>Android v14</td>\n",
       "    </tr>\n",
       "    <tr>\n",
       "      <th>3</th>\n",
       "      <td>3</td>\n",
       "      <td>Vivo V30 5G</td>\n",
       "      <td>₹33,999</td>\n",
       "      <td>NaN</td>\n",
       "      <td>Dual Sim, 3G, 4G, 5G, VoLTE, Wi-Fi</td>\n",
       "      <td>Snapdragon 7 Gen3, Octa Core, 2.63 GHz Processor</td>\n",
       "      <td>8 GB RAM, 128 GB inbuilt</td>\n",
       "      <td>5000 mAh Battery with 80W Fast Charging</td>\n",
       "      <td>6.78 inches, 1260 x 2800 px, 120 Hz Display wi...</td>\n",
       "      <td>50 MP + 50 MP Dual Rear &amp; 50 MP Front Camera</td>\n",
       "      <td>Memory Card Supported</td>\n",
       "      <td>Android v14</td>\n",
       "    </tr>\n",
       "    <tr>\n",
       "      <th>4</th>\n",
       "      <td>4</td>\n",
       "      <td>Realme 12 Plus 5G</td>\n",
       "      <td>₹19,999</td>\n",
       "      <td>NaN</td>\n",
       "      <td>Dual Sim, 3G, 4G, 5G, VoLTE, Wi-Fi</td>\n",
       "      <td>Dimensity 7050, Octa Core, 2.6 GHz Processor</td>\n",
       "      <td>8 GB RAM, 128 GB inbuilt</td>\n",
       "      <td>5000 mAh Battery with 67W Fast Charging</td>\n",
       "      <td>6.67 inches, 1080 x 2400 px, 120 Hz Display wi...</td>\n",
       "      <td>50 MP + 8 MP + 2 MP Triple Rear &amp; 16 MP Front ...</td>\n",
       "      <td>Memory Card (Hybrid), upto 2 TB</td>\n",
       "      <td>Android v14</td>\n",
       "    </tr>\n",
       "    <tr>\n",
       "      <th>...</th>\n",
       "      <td>...</td>\n",
       "      <td>...</td>\n",
       "      <td>...</td>\n",
       "      <td>...</td>\n",
       "      <td>...</td>\n",
       "      <td>...</td>\n",
       "      <td>...</td>\n",
       "      <td>...</td>\n",
       "      <td>...</td>\n",
       "      <td>...</td>\n",
       "      <td>...</td>\n",
       "      <td>...</td>\n",
       "    </tr>\n",
       "    <tr>\n",
       "      <th>1015</th>\n",
       "      <td>1015</td>\n",
       "      <td>GFive Z9 New</td>\n",
       "      <td>₹664</td>\n",
       "      <td>NaN</td>\n",
       "      <td>Dual Sim</td>\n",
       "      <td>No Wifi</td>\n",
       "      <td>1.2 MHz Processor</td>\n",
       "      <td>32 MB RAM, 32 MB inbuilt</td>\n",
       "      <td>1000 mAh Battery</td>\n",
       "      <td>1.8 inches, 320 x 480 px Display</td>\n",
       "      <td>0.3 MP Rear Camera</td>\n",
       "      <td>Memory Card Supported, upto 16 GB</td>\n",
       "    </tr>\n",
       "    <tr>\n",
       "      <th>1016</th>\n",
       "      <td>1016</td>\n",
       "      <td>itel Ace 2 Heera</td>\n",
       "      <td>₹854</td>\n",
       "      <td>NaN</td>\n",
       "      <td>Dual Sim</td>\n",
       "      <td>Single Core, 208 MHz Processor</td>\n",
       "      <td>32 MB RAM, 32 MB inbuilt</td>\n",
       "      <td>1000 mAh Battery</td>\n",
       "      <td>1.8 inches, 120 x 240 px Display</td>\n",
       "      <td>No Rear Camera</td>\n",
       "      <td>Memory Card Supported, upto 32 GB</td>\n",
       "      <td>Bluetooth</td>\n",
       "    </tr>\n",
       "    <tr>\n",
       "      <th>1017</th>\n",
       "      <td>1017</td>\n",
       "      <td>Karbonn ‎KX11I</td>\n",
       "      <td>₹899</td>\n",
       "      <td>NaN</td>\n",
       "      <td>Dual Sim</td>\n",
       "      <td>32 MB RAM, 32 MB inbuilt</td>\n",
       "      <td>1000 mAh Battery</td>\n",
       "      <td>1.8 inches, 128 x 160 px Display</td>\n",
       "      <td>No Rear Camera</td>\n",
       "      <td>Memory Card Supported, upto 32 GB</td>\n",
       "      <td>Symbian v9.3</td>\n",
       "      <td>Bluetooth</td>\n",
       "    </tr>\n",
       "    <tr>\n",
       "      <th>1018</th>\n",
       "      <td>1018</td>\n",
       "      <td>MTR Fold Z</td>\n",
       "      <td>₹1,600</td>\n",
       "      <td>NaN</td>\n",
       "      <td>Dual Sim</td>\n",
       "      <td>256 MHz Processor</td>\n",
       "      <td>32 MB RAM, 32 MB inbuilt</td>\n",
       "      <td>2000 mAh Battery</td>\n",
       "      <td>2.4 inches, 240 x 320 px Display</td>\n",
       "      <td>0.3 MP Rear Camera</td>\n",
       "      <td>Memory Card Supported</td>\n",
       "      <td>No FM Radio</td>\n",
       "    </tr>\n",
       "    <tr>\n",
       "      <th>1019</th>\n",
       "      <td>1019</td>\n",
       "      <td>Tryto Neo</td>\n",
       "      <td>₹680</td>\n",
       "      <td>NaN</td>\n",
       "      <td>Dual Sim</td>\n",
       "      <td>256 MHz Processor</td>\n",
       "      <td>32 MB RAM, 32 MB inbuilt</td>\n",
       "      <td>1100 mAh Battery</td>\n",
       "      <td>1.8 inches, 120 x 240 px Display</td>\n",
       "      <td>0.3 MP Rear Camera</td>\n",
       "      <td>Memory Card Supported</td>\n",
       "      <td>No FM Radio</td>\n",
       "    </tr>\n",
       "  </tbody>\n",
       "</table>\n",
       "<p>1020 rows × 12 columns</p>\n",
       "</div>"
      ],
      "text/plain": [
       "      Unnamed: 0              Model    Price  Rating  \\\n",
       "0              0         iQOO Z9 5G  ₹19,999     NaN   \n",
       "1              1   Nothing Phone 2a  ₹23,999     NaN   \n",
       "2              2    Vivo V30 Pro 5G  ₹41,999     NaN   \n",
       "3              3        Vivo V30 5G  ₹33,999     NaN   \n",
       "4              4  Realme 12 Plus 5G  ₹19,999     NaN   \n",
       "...          ...                ...      ...     ...   \n",
       "1015        1015       GFive Z9 New     ₹664     NaN   \n",
       "1016        1016   itel Ace 2 Heera     ₹854     NaN   \n",
       "1017        1017     Karbonn ‎KX11I     ₹899     NaN   \n",
       "1018        1018         MTR Fold Z   ₹1,600     NaN   \n",
       "1019        1019          Tryto Neo     ₹680     NaN   \n",
       "\n",
       "                                Specification  \\\n",
       "0          Dual Sim, 3G, 4G, 5G, VoLTE, Wi-Fi   \n",
       "1     Dual Sim, 3G, 4G, 5G, VoLTE, Wi-Fi, NFC   \n",
       "2          Dual Sim, 3G, 4G, 5G, VoLTE, Wi-Fi   \n",
       "3          Dual Sim, 3G, 4G, 5G, VoLTE, Wi-Fi   \n",
       "4          Dual Sim, 3G, 4G, 5G, VoLTE, Wi-Fi   \n",
       "...                                       ...   \n",
       "1015                                 Dual Sim   \n",
       "1016                                 Dual Sim   \n",
       "1017                                 Dual Sim   \n",
       "1018                                 Dual Sim   \n",
       "1019                                 Dual Sim   \n",
       "\n",
       "                                             Processor  \\\n",
       "0         Dimensity 7200, Octa Core, 2.8 GHz Processor   \n",
       "1     Dimensity 7200 Pro, Octa Core, 2.8 GHz Processor   \n",
       "2         Dimensity 8200, Octa Core, 3.1 GHz Processor   \n",
       "3     Snapdragon 7 Gen3, Octa Core, 2.63 GHz Processor   \n",
       "4         Dimensity 7050, Octa Core, 2.6 GHz Processor   \n",
       "...                                                ...   \n",
       "1015                                           No Wifi   \n",
       "1016                    Single Core, 208 MHz Processor   \n",
       "1017                          32 MB RAM, 32 MB inbuilt   \n",
       "1018                                 256 MHz Processor   \n",
       "1019                                 256 MHz Processor   \n",
       "\n",
       "                           RAM                                  Battery  \\\n",
       "0     8 GB RAM, 128 GB inbuilt  5000 mAh Battery with 44W Fast Charging   \n",
       "1     8 GB RAM, 128 GB inbuilt  5000 mAh Battery with 45W Fast Charging   \n",
       "2     8 GB RAM, 256 GB inbuilt  5000 mAh Battery with 80W Fast Charging   \n",
       "3     8 GB RAM, 128 GB inbuilt  5000 mAh Battery with 80W Fast Charging   \n",
       "4     8 GB RAM, 128 GB inbuilt  5000 mAh Battery with 67W Fast Charging   \n",
       "...                        ...                                      ...   \n",
       "1015         1.2 MHz Processor                 32 MB RAM, 32 MB inbuilt   \n",
       "1016  32 MB RAM, 32 MB inbuilt                         1000 mAh Battery   \n",
       "1017          1000 mAh Battery         1.8 inches, 128 x 160 px Display   \n",
       "1018  32 MB RAM, 32 MB inbuilt                         2000 mAh Battery   \n",
       "1019  32 MB RAM, 32 MB inbuilt                         1100 mAh Battery   \n",
       "\n",
       "                                                Display  \\\n",
       "0     6.67 inches, 1080 x 2400 px, 120 Hz Display wi...   \n",
       "1     6.7 inches, 1084 x 2412 px, 120 Hz Display wit...   \n",
       "2     6.78 inches, 1260 x 2800 px, 120 Hz Display wi...   \n",
       "3     6.78 inches, 1260 x 2800 px, 120 Hz Display wi...   \n",
       "4     6.67 inches, 1080 x 2400 px, 120 Hz Display wi...   \n",
       "...                                                 ...   \n",
       "1015                                   1000 mAh Battery   \n",
       "1016                   1.8 inches, 120 x 240 px Display   \n",
       "1017                                     No Rear Camera   \n",
       "1018                   2.4 inches, 240 x 320 px Display   \n",
       "1019                   1.8 inches, 120 x 240 px Display   \n",
       "\n",
       "                                                 Camera  \\\n",
       "0           50 MP + 2 MP Dual Rear & 16 MP Front Camera   \n",
       "1          50 MP + 50 MP Dual Rear & 32 MP Front Camera   \n",
       "2     50 MP + 50 MP + 50 MP Triple Rear & 50 MP Fron...   \n",
       "3          50 MP + 50 MP Dual Rear & 50 MP Front Camera   \n",
       "4     50 MP + 8 MP + 2 MP Triple Rear & 16 MP Front ...   \n",
       "...                                                 ...   \n",
       "1015                   1.8 inches, 320 x 480 px Display   \n",
       "1016                                     No Rear Camera   \n",
       "1017                  Memory Card Supported, upto 32 GB   \n",
       "1018                                 0.3 MP Rear Camera   \n",
       "1019                                 0.3 MP Rear Camera   \n",
       "\n",
       "                                 Memory                    OperatingSystem  \n",
       "0       Memory Card (Hybrid), upto 1 TB                        Android v14  \n",
       "1                           Android v14                        No FM Radio  \n",
       "2             Memory Card Not Supported                        Android v14  \n",
       "3                 Memory Card Supported                        Android v14  \n",
       "4       Memory Card (Hybrid), upto 2 TB                        Android v14  \n",
       "...                                 ...                                ...  \n",
       "1015                 0.3 MP Rear Camera  Memory Card Supported, upto 16 GB  \n",
       "1016  Memory Card Supported, upto 32 GB                          Bluetooth  \n",
       "1017                       Symbian v9.3                          Bluetooth  \n",
       "1018              Memory Card Supported                        No FM Radio  \n",
       "1019              Memory Card Supported                        No FM Radio  \n",
       "\n",
       "[1020 rows x 12 columns]"
      ]
     },
     "execution_count": 3,
     "metadata": {},
     "output_type": "execute_result"
    }
   ],
   "source": [
    "# load dataset and look at it \n",
    "df = pd.read_csv(r\"C:\\Users\\amsaa\\Downloads\\Compressed\\archive_5\\Smartphone_2024.csv\")\n",
    "df"
   ]
  },
  {
   "cell_type": "code",
   "execution_count": 4,
   "id": "9ad2f083",
   "metadata": {},
   "outputs": [
    {
     "data": {
      "text/plain": [
       "Unnamed: 0           0\n",
       "Model                0\n",
       "Price                0\n",
       "Rating             577\n",
       "Specification        0\n",
       "Processor            0\n",
       "RAM                  0\n",
       "Battery              0\n",
       "Display              0\n",
       "Camera               0\n",
       "Memory              17\n",
       "OperatingSystem     44\n",
       "dtype: int64"
      ]
     },
     "execution_count": 4,
     "metadata": {},
     "output_type": "execute_result"
    }
   ],
   "source": [
    "df.isnull().sum()"
   ]
  },
  {
   "cell_type": "markdown",
   "id": "f3be5750",
   "metadata": {},
   "source": [
    "### TO fill null values in Rating columns using the \"Mean\" "
   ]
  },
  {
   "cell_type": "code",
   "execution_count": 5,
   "id": "47e46151",
   "metadata": {},
   "outputs": [
    {
     "data": {
      "text/plain": [
       "577"
      ]
     },
     "execution_count": 5,
     "metadata": {},
     "output_type": "execute_result"
    }
   ],
   "source": [
    "df['Rating'].isnull().sum()"
   ]
  },
  {
   "cell_type": "code",
   "execution_count": 6,
   "id": "a5c9db86",
   "metadata": {},
   "outputs": [],
   "source": [
    "mean =df['Rating'].mean()"
   ]
  },
  {
   "cell_type": "code",
   "execution_count": 7,
   "id": "75643cf0",
   "metadata": {},
   "outputs": [
    {
     "data": {
      "text/plain": [
       "79.0"
      ]
     },
     "execution_count": 7,
     "metadata": {},
     "output_type": "execute_result"
    }
   ],
   "source": [
    "df['Rating'].max()"
   ]
  },
  {
   "cell_type": "code",
   "execution_count": 8,
   "id": "2211f3f8",
   "metadata": {},
   "outputs": [
    {
     "data": {
      "text/plain": [
       "51.0"
      ]
     },
     "execution_count": 8,
     "metadata": {},
     "output_type": "execute_result"
    }
   ],
   "source": [
    "df['Rating'].min()"
   ]
  },
  {
   "cell_type": "code",
   "execution_count": 9,
   "id": "16c4f40f",
   "metadata": {},
   "outputs": [
    {
     "data": {
      "text/plain": [
       "1020"
      ]
     },
     "execution_count": 9,
     "metadata": {},
     "output_type": "execute_result"
    }
   ],
   "source": [
    "column_count = len(df['Rating'])\n",
    "column_count"
   ]
  },
  {
   "cell_type": "code",
   "execution_count": 10,
   "id": "952d7e7b",
   "metadata": {},
   "outputs": [
    {
     "data": {
      "text/plain": [
       "443"
      ]
     },
     "execution_count": 10,
     "metadata": {},
     "output_type": "execute_result"
    }
   ],
   "source": [
    "1020-577"
   ]
  },
  {
   "cell_type": "code",
   "execution_count": 11,
   "id": "b112732c",
   "metadata": {},
   "outputs": [
    {
     "data": {
      "text/plain": [
       "0    75.0\n",
       "Name: Rating, dtype: float64"
      ]
     },
     "execution_count": 11,
     "metadata": {},
     "output_type": "execute_result"
    }
   ],
   "source": [
    "mode = df['Rating'].mode()\n",
    "mode"
   ]
  },
  {
   "cell_type": "code",
   "execution_count": 12,
   "id": "d9fc1866",
   "metadata": {},
   "outputs": [
    {
     "name": "stderr",
     "output_type": "stream",
     "text": [
      "C:\\Users\\amsaa\\AppData\\Local\\Temp\\ipykernel_11496\\1994736953.py:1: FutureWarning: A value is trying to be set on a copy of a DataFrame or Series through chained assignment using an inplace method.\n",
      "The behavior will change in pandas 3.0. This inplace method will never work because the intermediate object on which we are setting values always behaves as a copy.\n",
      "\n",
      "For example, when doing 'df[col].method(value, inplace=True)', try using 'df.method({col: value}, inplace=True)' or df[col] = df[col].method(value) instead, to perform the operation inplace on the original object.\n",
      "\n",
      "\n",
      "  fill_rating = df['Rating'].fillna(mean , inplace =True)\n"
     ]
    }
   ],
   "source": [
    "fill_rating = df['Rating'].fillna(mean , inplace =True)\n"
   ]
  },
  {
   "cell_type": "code",
   "execution_count": 13,
   "id": "7e77afbf",
   "metadata": {},
   "outputs": [
    {
     "data": {
      "text/html": [
       "<div>\n",
       "<style scoped>\n",
       "    .dataframe tbody tr th:only-of-type {\n",
       "        vertical-align: middle;\n",
       "    }\n",
       "\n",
       "    .dataframe tbody tr th {\n",
       "        vertical-align: top;\n",
       "    }\n",
       "\n",
       "    .dataframe thead th {\n",
       "        text-align: right;\n",
       "    }\n",
       "</style>\n",
       "<table border=\"1\" class=\"dataframe\">\n",
       "  <thead>\n",
       "    <tr style=\"text-align: right;\">\n",
       "      <th></th>\n",
       "      <th>Unnamed: 0</th>\n",
       "      <th>Model</th>\n",
       "      <th>Price</th>\n",
       "      <th>Rating</th>\n",
       "      <th>Specification</th>\n",
       "      <th>Processor</th>\n",
       "      <th>RAM</th>\n",
       "      <th>Battery</th>\n",
       "      <th>Display</th>\n",
       "      <th>Camera</th>\n",
       "      <th>Memory</th>\n",
       "      <th>OperatingSystem</th>\n",
       "    </tr>\n",
       "  </thead>\n",
       "  <tbody>\n",
       "    <tr>\n",
       "      <th>0</th>\n",
       "      <td>0</td>\n",
       "      <td>iQOO Z9 5G</td>\n",
       "      <td>₹19,999</td>\n",
       "      <td>71.065463</td>\n",
       "      <td>Dual Sim, 3G, 4G, 5G, VoLTE, Wi-Fi</td>\n",
       "      <td>Dimensity 7200, Octa Core, 2.8 GHz Processor</td>\n",
       "      <td>8 GB RAM, 128 GB inbuilt</td>\n",
       "      <td>5000 mAh Battery with 44W Fast Charging</td>\n",
       "      <td>6.67 inches, 1080 x 2400 px, 120 Hz Display wi...</td>\n",
       "      <td>50 MP + 2 MP Dual Rear &amp; 16 MP Front Camera</td>\n",
       "      <td>Memory Card (Hybrid), upto 1 TB</td>\n",
       "      <td>Android v14</td>\n",
       "    </tr>\n",
       "    <tr>\n",
       "      <th>1</th>\n",
       "      <td>1</td>\n",
       "      <td>Nothing Phone 2a</td>\n",
       "      <td>₹23,999</td>\n",
       "      <td>71.065463</td>\n",
       "      <td>Dual Sim, 3G, 4G, 5G, VoLTE, Wi-Fi, NFC</td>\n",
       "      <td>Dimensity 7200 Pro, Octa Core, 2.8 GHz Processor</td>\n",
       "      <td>8 GB RAM, 128 GB inbuilt</td>\n",
       "      <td>5000 mAh Battery with 45W Fast Charging</td>\n",
       "      <td>6.7 inches, 1084 x 2412 px, 120 Hz Display wit...</td>\n",
       "      <td>50 MP + 50 MP Dual Rear &amp; 32 MP Front Camera</td>\n",
       "      <td>Android v14</td>\n",
       "      <td>No FM Radio</td>\n",
       "    </tr>\n",
       "    <tr>\n",
       "      <th>2</th>\n",
       "      <td>2</td>\n",
       "      <td>Vivo V30 Pro 5G</td>\n",
       "      <td>₹41,999</td>\n",
       "      <td>71.065463</td>\n",
       "      <td>Dual Sim, 3G, 4G, 5G, VoLTE, Wi-Fi</td>\n",
       "      <td>Dimensity 8200, Octa Core, 3.1 GHz Processor</td>\n",
       "      <td>8 GB RAM, 256 GB inbuilt</td>\n",
       "      <td>5000 mAh Battery with 80W Fast Charging</td>\n",
       "      <td>6.78 inches, 1260 x 2800 px, 120 Hz Display wi...</td>\n",
       "      <td>50 MP + 50 MP + 50 MP Triple Rear &amp; 50 MP Fron...</td>\n",
       "      <td>Memory Card Not Supported</td>\n",
       "      <td>Android v14</td>\n",
       "    </tr>\n",
       "    <tr>\n",
       "      <th>3</th>\n",
       "      <td>3</td>\n",
       "      <td>Vivo V30 5G</td>\n",
       "      <td>₹33,999</td>\n",
       "      <td>71.065463</td>\n",
       "      <td>Dual Sim, 3G, 4G, 5G, VoLTE, Wi-Fi</td>\n",
       "      <td>Snapdragon 7 Gen3, Octa Core, 2.63 GHz Processor</td>\n",
       "      <td>8 GB RAM, 128 GB inbuilt</td>\n",
       "      <td>5000 mAh Battery with 80W Fast Charging</td>\n",
       "      <td>6.78 inches, 1260 x 2800 px, 120 Hz Display wi...</td>\n",
       "      <td>50 MP + 50 MP Dual Rear &amp; 50 MP Front Camera</td>\n",
       "      <td>Memory Card Supported</td>\n",
       "      <td>Android v14</td>\n",
       "    </tr>\n",
       "    <tr>\n",
       "      <th>4</th>\n",
       "      <td>4</td>\n",
       "      <td>Realme 12 Plus 5G</td>\n",
       "      <td>₹19,999</td>\n",
       "      <td>71.065463</td>\n",
       "      <td>Dual Sim, 3G, 4G, 5G, VoLTE, Wi-Fi</td>\n",
       "      <td>Dimensity 7050, Octa Core, 2.6 GHz Processor</td>\n",
       "      <td>8 GB RAM, 128 GB inbuilt</td>\n",
       "      <td>5000 mAh Battery with 67W Fast Charging</td>\n",
       "      <td>6.67 inches, 1080 x 2400 px, 120 Hz Display wi...</td>\n",
       "      <td>50 MP + 8 MP + 2 MP Triple Rear &amp; 16 MP Front ...</td>\n",
       "      <td>Memory Card (Hybrid), upto 2 TB</td>\n",
       "      <td>Android v14</td>\n",
       "    </tr>\n",
       "    <tr>\n",
       "      <th>...</th>\n",
       "      <td>...</td>\n",
       "      <td>...</td>\n",
       "      <td>...</td>\n",
       "      <td>...</td>\n",
       "      <td>...</td>\n",
       "      <td>...</td>\n",
       "      <td>...</td>\n",
       "      <td>...</td>\n",
       "      <td>...</td>\n",
       "      <td>...</td>\n",
       "      <td>...</td>\n",
       "      <td>...</td>\n",
       "    </tr>\n",
       "    <tr>\n",
       "      <th>1015</th>\n",
       "      <td>1015</td>\n",
       "      <td>GFive Z9 New</td>\n",
       "      <td>₹664</td>\n",
       "      <td>71.065463</td>\n",
       "      <td>Dual Sim</td>\n",
       "      <td>No Wifi</td>\n",
       "      <td>1.2 MHz Processor</td>\n",
       "      <td>32 MB RAM, 32 MB inbuilt</td>\n",
       "      <td>1000 mAh Battery</td>\n",
       "      <td>1.8 inches, 320 x 480 px Display</td>\n",
       "      <td>0.3 MP Rear Camera</td>\n",
       "      <td>Memory Card Supported, upto 16 GB</td>\n",
       "    </tr>\n",
       "    <tr>\n",
       "      <th>1016</th>\n",
       "      <td>1016</td>\n",
       "      <td>itel Ace 2 Heera</td>\n",
       "      <td>₹854</td>\n",
       "      <td>71.065463</td>\n",
       "      <td>Dual Sim</td>\n",
       "      <td>Single Core, 208 MHz Processor</td>\n",
       "      <td>32 MB RAM, 32 MB inbuilt</td>\n",
       "      <td>1000 mAh Battery</td>\n",
       "      <td>1.8 inches, 120 x 240 px Display</td>\n",
       "      <td>No Rear Camera</td>\n",
       "      <td>Memory Card Supported, upto 32 GB</td>\n",
       "      <td>Bluetooth</td>\n",
       "    </tr>\n",
       "    <tr>\n",
       "      <th>1017</th>\n",
       "      <td>1017</td>\n",
       "      <td>Karbonn ‎KX11I</td>\n",
       "      <td>₹899</td>\n",
       "      <td>71.065463</td>\n",
       "      <td>Dual Sim</td>\n",
       "      <td>32 MB RAM, 32 MB inbuilt</td>\n",
       "      <td>1000 mAh Battery</td>\n",
       "      <td>1.8 inches, 128 x 160 px Display</td>\n",
       "      <td>No Rear Camera</td>\n",
       "      <td>Memory Card Supported, upto 32 GB</td>\n",
       "      <td>Symbian v9.3</td>\n",
       "      <td>Bluetooth</td>\n",
       "    </tr>\n",
       "    <tr>\n",
       "      <th>1018</th>\n",
       "      <td>1018</td>\n",
       "      <td>MTR Fold Z</td>\n",
       "      <td>₹1,600</td>\n",
       "      <td>71.065463</td>\n",
       "      <td>Dual Sim</td>\n",
       "      <td>256 MHz Processor</td>\n",
       "      <td>32 MB RAM, 32 MB inbuilt</td>\n",
       "      <td>2000 mAh Battery</td>\n",
       "      <td>2.4 inches, 240 x 320 px Display</td>\n",
       "      <td>0.3 MP Rear Camera</td>\n",
       "      <td>Memory Card Supported</td>\n",
       "      <td>No FM Radio</td>\n",
       "    </tr>\n",
       "    <tr>\n",
       "      <th>1019</th>\n",
       "      <td>1019</td>\n",
       "      <td>Tryto Neo</td>\n",
       "      <td>₹680</td>\n",
       "      <td>71.065463</td>\n",
       "      <td>Dual Sim</td>\n",
       "      <td>256 MHz Processor</td>\n",
       "      <td>32 MB RAM, 32 MB inbuilt</td>\n",
       "      <td>1100 mAh Battery</td>\n",
       "      <td>1.8 inches, 120 x 240 px Display</td>\n",
       "      <td>0.3 MP Rear Camera</td>\n",
       "      <td>Memory Card Supported</td>\n",
       "      <td>No FM Radio</td>\n",
       "    </tr>\n",
       "  </tbody>\n",
       "</table>\n",
       "<p>1020 rows × 12 columns</p>\n",
       "</div>"
      ],
      "text/plain": [
       "      Unnamed: 0              Model    Price     Rating  \\\n",
       "0              0         iQOO Z9 5G  ₹19,999  71.065463   \n",
       "1              1   Nothing Phone 2a  ₹23,999  71.065463   \n",
       "2              2    Vivo V30 Pro 5G  ₹41,999  71.065463   \n",
       "3              3        Vivo V30 5G  ₹33,999  71.065463   \n",
       "4              4  Realme 12 Plus 5G  ₹19,999  71.065463   \n",
       "...          ...                ...      ...        ...   \n",
       "1015        1015       GFive Z9 New     ₹664  71.065463   \n",
       "1016        1016   itel Ace 2 Heera     ₹854  71.065463   \n",
       "1017        1017     Karbonn ‎KX11I     ₹899  71.065463   \n",
       "1018        1018         MTR Fold Z   ₹1,600  71.065463   \n",
       "1019        1019          Tryto Neo     ₹680  71.065463   \n",
       "\n",
       "                                Specification  \\\n",
       "0          Dual Sim, 3G, 4G, 5G, VoLTE, Wi-Fi   \n",
       "1     Dual Sim, 3G, 4G, 5G, VoLTE, Wi-Fi, NFC   \n",
       "2          Dual Sim, 3G, 4G, 5G, VoLTE, Wi-Fi   \n",
       "3          Dual Sim, 3G, 4G, 5G, VoLTE, Wi-Fi   \n",
       "4          Dual Sim, 3G, 4G, 5G, VoLTE, Wi-Fi   \n",
       "...                                       ...   \n",
       "1015                                 Dual Sim   \n",
       "1016                                 Dual Sim   \n",
       "1017                                 Dual Sim   \n",
       "1018                                 Dual Sim   \n",
       "1019                                 Dual Sim   \n",
       "\n",
       "                                             Processor  \\\n",
       "0         Dimensity 7200, Octa Core, 2.8 GHz Processor   \n",
       "1     Dimensity 7200 Pro, Octa Core, 2.8 GHz Processor   \n",
       "2         Dimensity 8200, Octa Core, 3.1 GHz Processor   \n",
       "3     Snapdragon 7 Gen3, Octa Core, 2.63 GHz Processor   \n",
       "4         Dimensity 7050, Octa Core, 2.6 GHz Processor   \n",
       "...                                                ...   \n",
       "1015                                           No Wifi   \n",
       "1016                    Single Core, 208 MHz Processor   \n",
       "1017                          32 MB RAM, 32 MB inbuilt   \n",
       "1018                                 256 MHz Processor   \n",
       "1019                                 256 MHz Processor   \n",
       "\n",
       "                           RAM                                  Battery  \\\n",
       "0     8 GB RAM, 128 GB inbuilt  5000 mAh Battery with 44W Fast Charging   \n",
       "1     8 GB RAM, 128 GB inbuilt  5000 mAh Battery with 45W Fast Charging   \n",
       "2     8 GB RAM, 256 GB inbuilt  5000 mAh Battery with 80W Fast Charging   \n",
       "3     8 GB RAM, 128 GB inbuilt  5000 mAh Battery with 80W Fast Charging   \n",
       "4     8 GB RAM, 128 GB inbuilt  5000 mAh Battery with 67W Fast Charging   \n",
       "...                        ...                                      ...   \n",
       "1015         1.2 MHz Processor                 32 MB RAM, 32 MB inbuilt   \n",
       "1016  32 MB RAM, 32 MB inbuilt                         1000 mAh Battery   \n",
       "1017          1000 mAh Battery         1.8 inches, 128 x 160 px Display   \n",
       "1018  32 MB RAM, 32 MB inbuilt                         2000 mAh Battery   \n",
       "1019  32 MB RAM, 32 MB inbuilt                         1100 mAh Battery   \n",
       "\n",
       "                                                Display  \\\n",
       "0     6.67 inches, 1080 x 2400 px, 120 Hz Display wi...   \n",
       "1     6.7 inches, 1084 x 2412 px, 120 Hz Display wit...   \n",
       "2     6.78 inches, 1260 x 2800 px, 120 Hz Display wi...   \n",
       "3     6.78 inches, 1260 x 2800 px, 120 Hz Display wi...   \n",
       "4     6.67 inches, 1080 x 2400 px, 120 Hz Display wi...   \n",
       "...                                                 ...   \n",
       "1015                                   1000 mAh Battery   \n",
       "1016                   1.8 inches, 120 x 240 px Display   \n",
       "1017                                     No Rear Camera   \n",
       "1018                   2.4 inches, 240 x 320 px Display   \n",
       "1019                   1.8 inches, 120 x 240 px Display   \n",
       "\n",
       "                                                 Camera  \\\n",
       "0           50 MP + 2 MP Dual Rear & 16 MP Front Camera   \n",
       "1          50 MP + 50 MP Dual Rear & 32 MP Front Camera   \n",
       "2     50 MP + 50 MP + 50 MP Triple Rear & 50 MP Fron...   \n",
       "3          50 MP + 50 MP Dual Rear & 50 MP Front Camera   \n",
       "4     50 MP + 8 MP + 2 MP Triple Rear & 16 MP Front ...   \n",
       "...                                                 ...   \n",
       "1015                   1.8 inches, 320 x 480 px Display   \n",
       "1016                                     No Rear Camera   \n",
       "1017                  Memory Card Supported, upto 32 GB   \n",
       "1018                                 0.3 MP Rear Camera   \n",
       "1019                                 0.3 MP Rear Camera   \n",
       "\n",
       "                                 Memory                    OperatingSystem  \n",
       "0       Memory Card (Hybrid), upto 1 TB                        Android v14  \n",
       "1                           Android v14                        No FM Radio  \n",
       "2             Memory Card Not Supported                        Android v14  \n",
       "3                 Memory Card Supported                        Android v14  \n",
       "4       Memory Card (Hybrid), upto 2 TB                        Android v14  \n",
       "...                                 ...                                ...  \n",
       "1015                 0.3 MP Rear Camera  Memory Card Supported, upto 16 GB  \n",
       "1016  Memory Card Supported, upto 32 GB                          Bluetooth  \n",
       "1017                       Symbian v9.3                          Bluetooth  \n",
       "1018              Memory Card Supported                        No FM Radio  \n",
       "1019              Memory Card Supported                        No FM Radio  \n",
       "\n",
       "[1020 rows x 12 columns]"
      ]
     },
     "execution_count": 13,
     "metadata": {},
     "output_type": "execute_result"
    }
   ],
   "source": [
    "df"
   ]
  },
  {
   "cell_type": "code",
   "execution_count": 14,
   "id": "d161d9d5",
   "metadata": {},
   "outputs": [
    {
     "data": {
      "text/plain": [
       "0"
      ]
     },
     "execution_count": 14,
     "metadata": {},
     "output_type": "execute_result"
    }
   ],
   "source": [
    "# to know if there are duplicated values \n",
    "dub = df.duplicated().sum()\n",
    "dub"
   ]
  },
  {
   "cell_type": "markdown",
   "id": "56563892",
   "metadata": {},
   "source": [
    "### TO fill null values in Memory columns using the \"Mean\" "
   ]
  },
  {
   "cell_type": "code",
   "execution_count": 15,
   "id": "f2ce57ae",
   "metadata": {},
   "outputs": [],
   "source": [
    "mode_of_memory =df['Memory'].mode()[0]"
   ]
  },
  {
   "cell_type": "code",
   "execution_count": 16,
   "id": "379ee04c",
   "metadata": {},
   "outputs": [
    {
     "name": "stderr",
     "output_type": "stream",
     "text": [
      "C:\\Users\\amsaa\\AppData\\Local\\Temp\\ipykernel_11496\\2905465543.py:1: FutureWarning: A value is trying to be set on a copy of a DataFrame or Series through chained assignment using an inplace method.\n",
      "The behavior will change in pandas 3.0. This inplace method will never work because the intermediate object on which we are setting values always behaves as a copy.\n",
      "\n",
      "For example, when doing 'df[col].method(value, inplace=True)', try using 'df.method({col: value}, inplace=True)' or df[col] = df[col].method(value) instead, to perform the operation inplace on the original object.\n",
      "\n",
      "\n",
      "  df['Memory'].fillna(mode_of_memory , inplace=True)\n"
     ]
    }
   ],
   "source": [
    "df['Memory'].fillna(mode_of_memory , inplace=True)"
   ]
  },
  {
   "cell_type": "code",
   "execution_count": 17,
   "id": "eb9d5ffc",
   "metadata": {},
   "outputs": [
    {
     "data": {
      "text/plain": [
       "0"
      ]
     },
     "execution_count": 17,
     "metadata": {},
     "output_type": "execute_result"
    }
   ],
   "source": [
    "df['Memory'].isnull().sum()"
   ]
  },
  {
   "cell_type": "code",
   "execution_count": 18,
   "id": "3ef0a7a3",
   "metadata": {},
   "outputs": [],
   "source": [
    "mode_opre= df['OperatingSystem'].mode()[0]"
   ]
  },
  {
   "cell_type": "code",
   "execution_count": 19,
   "id": "3d7454fb",
   "metadata": {},
   "outputs": [
    {
     "name": "stderr",
     "output_type": "stream",
     "text": [
      "C:\\Users\\amsaa\\AppData\\Local\\Temp\\ipykernel_11496\\2900324691.py:1: FutureWarning: A value is trying to be set on a copy of a DataFrame or Series through chained assignment using an inplace method.\n",
      "The behavior will change in pandas 3.0. This inplace method will never work because the intermediate object on which we are setting values always behaves as a copy.\n",
      "\n",
      "For example, when doing 'df[col].method(value, inplace=True)', try using 'df.method({col: value}, inplace=True)' or df[col] = df[col].method(value) instead, to perform the operation inplace on the original object.\n",
      "\n",
      "\n",
      "  df['OperatingSystem'].fillna(mode_opre , inplace = True)\n"
     ]
    }
   ],
   "source": [
    "df['OperatingSystem'].fillna(mode_opre , inplace = True)"
   ]
  },
  {
   "cell_type": "code",
   "execution_count": 20,
   "id": "87a1474a",
   "metadata": {},
   "outputs": [
    {
     "data": {
      "text/plain": [
       "0"
      ]
     },
     "execution_count": 20,
     "metadata": {},
     "output_type": "execute_result"
    }
   ],
   "source": [
    "df['OperatingSystem'].isnull().sum()"
   ]
  },
  {
   "cell_type": "code",
   "execution_count": 21,
   "id": "e987a622",
   "metadata": {},
   "outputs": [
    {
     "data": {
      "text/plain": [
       "Unnamed: 0         0\n",
       "Model              0\n",
       "Price              0\n",
       "Rating             0\n",
       "Specification      0\n",
       "Processor          0\n",
       "RAM                0\n",
       "Battery            0\n",
       "Display            0\n",
       "Camera             0\n",
       "Memory             0\n",
       "OperatingSystem    0\n",
       "dtype: int64"
      ]
     },
     "execution_count": 21,
     "metadata": {},
     "output_type": "execute_result"
    }
   ],
   "source": [
    "df.isnull().sum()"
   ]
  },
  {
   "cell_type": "code",
   "execution_count": 22,
   "id": "c4e5f053",
   "metadata": {},
   "outputs": [],
   "source": [
    "# Assuming 'Price' is the column containing prices with non-numeric characters\n",
    "# Remove non-numeric characters and convert to float\n",
    "df['Price'] = df['Price'].replace({'₹': '', ',': ''}, regex=True).astype(int)\n"
   ]
  },
  {
   "cell_type": "markdown",
   "id": "e44b816d",
   "metadata": {},
   "source": [
    "<a id='eda'></a>\n",
    "## Exploratory Data Analysis\n",
    "\n",
    "\n"
   ]
  },
  {
   "cell_type": "code",
   "execution_count": 23,
   "id": "09e5b7cf",
   "metadata": {},
   "outputs": [
    {
     "data": {
      "text/html": [
       "<div>\n",
       "<style scoped>\n",
       "    .dataframe tbody tr th:only-of-type {\n",
       "        vertical-align: middle;\n",
       "    }\n",
       "\n",
       "    .dataframe tbody tr th {\n",
       "        vertical-align: top;\n",
       "    }\n",
       "\n",
       "    .dataframe thead th {\n",
       "        text-align: right;\n",
       "    }\n",
       "</style>\n",
       "<table border=\"1\" class=\"dataframe\">\n",
       "  <thead>\n",
       "    <tr style=\"text-align: right;\">\n",
       "      <th></th>\n",
       "      <th>Unnamed: 0</th>\n",
       "      <th>Price</th>\n",
       "      <th>Rating</th>\n",
       "    </tr>\n",
       "  </thead>\n",
       "  <tbody>\n",
       "    <tr>\n",
       "      <th>count</th>\n",
       "      <td>1020.000000</td>\n",
       "      <td>1020.000000</td>\n",
       "      <td>1020.000000</td>\n",
       "    </tr>\n",
       "    <tr>\n",
       "      <th>mean</th>\n",
       "      <td>509.500000</td>\n",
       "      <td>22570.351961</td>\n",
       "      <td>71.065463</td>\n",
       "    </tr>\n",
       "    <tr>\n",
       "      <th>std</th>\n",
       "      <td>294.592939</td>\n",
       "      <td>26420.396981</td>\n",
       "      <td>4.315467</td>\n",
       "    </tr>\n",
       "    <tr>\n",
       "      <th>min</th>\n",
       "      <td>0.000000</td>\n",
       "      <td>650.000000</td>\n",
       "      <td>51.000000</td>\n",
       "    </tr>\n",
       "    <tr>\n",
       "      <th>25%</th>\n",
       "      <td>254.750000</td>\n",
       "      <td>8299.000000</td>\n",
       "      <td>71.065463</td>\n",
       "    </tr>\n",
       "    <tr>\n",
       "      <th>50%</th>\n",
       "      <td>509.500000</td>\n",
       "      <td>14190.000000</td>\n",
       "      <td>71.065463</td>\n",
       "    </tr>\n",
       "    <tr>\n",
       "      <th>75%</th>\n",
       "      <td>764.250000</td>\n",
       "      <td>25999.000000</td>\n",
       "      <td>71.065463</td>\n",
       "    </tr>\n",
       "    <tr>\n",
       "      <th>max</th>\n",
       "      <td>1019.000000</td>\n",
       "      <td>184999.000000</td>\n",
       "      <td>79.000000</td>\n",
       "    </tr>\n",
       "  </tbody>\n",
       "</table>\n",
       "</div>"
      ],
      "text/plain": [
       "        Unnamed: 0          Price       Rating\n",
       "count  1020.000000    1020.000000  1020.000000\n",
       "mean    509.500000   22570.351961    71.065463\n",
       "std     294.592939   26420.396981     4.315467\n",
       "min       0.000000     650.000000    51.000000\n",
       "25%     254.750000    8299.000000    71.065463\n",
       "50%     509.500000   14190.000000    71.065463\n",
       "75%     764.250000   25999.000000    71.065463\n",
       "max    1019.000000  184999.000000    79.000000"
      ]
     },
     "execution_count": 23,
     "metadata": {},
     "output_type": "execute_result"
    }
   ],
   "source": [
    "df.describe()"
   ]
  },
  {
   "cell_type": "markdown",
   "id": "609caa9c",
   "metadata": {},
   "source": [
    "#### Research Question 1 ( What is the most expensive and least expensive  price based on model   of smartphones in the dataset??)"
   ]
  },
  {
   "cell_type": "code",
   "execution_count": 24,
   "id": "60c1e73e",
   "metadata": {},
   "outputs": [
    {
     "name": "stderr",
     "output_type": "stream",
     "text": [
      "C:\\Users\\amsaa\\anaconda3\\Lib\\site-packages\\seaborn\\_oldcore.py:1119: FutureWarning: use_inf_as_na option is deprecated and will be removed in a future version. Convert inf values to NaN before operating instead.\n",
      "  with pd.option_context('mode.use_inf_as_na', True):\n"
     ]
    },
    {
     "data": {
      "image/png": "[encoded data removed]",
      "text/plain": [
       "<Figure size 1000x600 with 1 Axes>"
      ]
     },
     "metadata": {},
     "output_type": "display_data"
    },
    {
     "name": "stdout",
     "output_type": "stream",
     "text": [
      "\n",
      "Most Expensive Smartphone:\n",
      " Model    Samsung Galaxy Z Fold 5 (12GB RAM + 1TB)\n",
      "Price                                      184999\n",
      "Name: 549, dtype: object\n",
      "\n",
      "Least Expensive Smartphone:\n",
      " Model    Ringme R1 310\n",
      "Price              650\n",
      "Name: 676, dtype: object\n"
     ]
    }
   ],
   "source": [
    "plt.figure(figsize=(10, 6))\n",
    "sns.histplot(df['Price'], kde=True, bins=30)\n",
    "plt.title('Price Distribution of Smartphones')\n",
    "plt.xlabel('Price')\n",
    "plt.ylabel('Frequency')\n",
    "plt.show()\n",
    "\n",
    "# Identifying the most expensive and least expensive smartphones\n",
    "most_expensive = df.loc[df['Price'].idxmax()]\n",
    "least_expensive = df.loc[df['Price'].idxmin()]\n",
    "print(\"\\nMost Expensive Smartphone:\\n\", most_expensive[['Model', 'Price']])\n",
    "print(\"\\nLeast Expensive Smartphone:\\n\", least_expensive[['Model', 'Price']])"
   ]
  },
  {
   "cell_type": "markdown",
   "id": "15626dde",
   "metadata": {},
   "source": [
    "### Research Question 2 ( What is the average price of smartphones in the dataset??)"
   ]
  },
  {
   "cell_type": "code",
   "execution_count": 25,
   "id": "5d462904",
   "metadata": {},
   "outputs": [
    {
     "name": "stdout",
     "output_type": "stream",
     "text": [
      "the Avarage price of smartphones is 22570.351960784315\n"
     ]
    }
   ],
   "source": [
    "avarage_price = df['Price'].mean()\n",
    "print(f'the Avarage price of smartphones is {avarage_price}')"
   ]
  },
  {
   "cell_type": "markdown",
   "id": "9f34c37e",
   "metadata": {},
   "source": [
    "### Research Question 3 ( What is the relation between Price and Rating in smartphones's dataset??)"
   ]
  },
  {
   "cell_type": "code",
   "execution_count": 26,
   "id": "b16990ac",
   "metadata": {},
   "outputs": [
    {
     "data": {
      "image/png": "[encoded data removed]",
      "text/plain": [
       "<Figure size 800x600 with 1 Axes>"
      ]
     },
     "metadata": {},
     "output_type": "display_data"
    }
   ],
   "source": [
    "import matplotlib.pyplot as plt\n",
    "\n",
    "def scatter_plot(data, x_column, y_column):\n",
    "    \"\"\"\n",
    "    Generate a scatter plot to visualize the relationship between two numeric variables.\n",
    "\n",
    "    Parameters:\n",
    "    - data: DataFrame containing the dataset\n",
    "    - x_column: Name of the column to plot on the x-axis\n",
    "    - y_column: Name of the column to plot on the y-axis\n",
    "\n",
    "    Returns:\n",
    "    - None\n",
    "    \"\"\"\n",
    "\n",
    "    # Filter out missing values\n",
    "    data = data.dropna(subset=[x_column, y_column])\n",
    "\n",
    "    # Create the scatter plot\n",
    "    plt.figure(figsize=(8, 6))\n",
    "    plt.scatter(data[x_column], data[y_column], color='skyblue', alpha=0.5)\n",
    "\n",
    "    # Add labels and title\n",
    "    plt.title(f'Scatter Plot: {y_column} vs {x_column}')\n",
    "    plt.xlabel(x_column)\n",
    "    plt.ylabel(y_column)\n",
    "\n",
    "    # Show plot\n",
    "    plt.grid(True)\n",
    "    plt.show()\n",
    "\n",
    "# Example usage:\n",
    "scatter_plot(df, 'Price', 'Rating')\n"
   ]
  },
  {
   "cell_type": "code",
   "execution_count": 27,
   "id": "a39d73d9",
   "metadata": {},
   "outputs": [
    {
     "data": {
      "text/plain": [
       "0.06824851673794649"
      ]
     },
     "execution_count": 27,
     "metadata": {},
     "output_type": "execute_result"
    }
   ],
   "source": [
    "df['Rating'].corr(df['Price'])"
   ]
  },
  {
   "cell_type": "markdown",
   "id": "0f6ff65a",
   "metadata": {},
   "source": [
    "### Research Question 4 (The Number of Smartphones based on model?)"
   ]
  },
  {
   "cell_type": "code",
   "execution_count": 28,
   "id": "2f2e1b67",
   "metadata": {},
   "outputs": [],
   "source": [
    "df['Brand'] = df['Model'].apply(lambda x: x.split()[0])\n",
    "brand_counts = df['Brand'].value_counts()\n"
   ]
  },
  {
   "cell_type": "code",
   "execution_count": 29,
   "id": "60db6b7a",
   "metadata": {},
   "outputs": [
    {
     "data": {
      "image/png": "[encoded data removed]",
      "text/plain": [
       "<Figure size 1200x600 with 1 Axes>"
      ]
     },
     "metadata": {},
     "output_type": "display_data"
    }
   ],
   "source": [
    "plt.figure(figsize=(12, 6))\n",
    "sns.countplot(data=df, x='Brand', order=brand_counts.index)\n",
    "plt.xticks(rotation=45)\n",
    "plt.title('Number of Smartphones by Brand')\n",
    "plt.xlabel('Brand')\n",
    "plt.ylabel('Count')\n",
    "plt.show()"
   ]
  },
  {
   "cell_type": "markdown",
   "id": "68d93d45",
   "metadata": {},
   "source": [
    "### Research Question 4 (What is Rating Distribution of Smartphones?)\n"
   ]
  },
  {
   "cell_type": "code",
   "execution_count": 30,
   "id": "f5bf6e87",
   "metadata": {},
   "outputs": [
    {
     "name": "stdout",
     "output_type": "stream",
     "text": [
      "Rating Summary Statistics:\n",
      " count    1020.000000\n",
      "mean       71.065463\n",
      "std         4.315467\n",
      "min        51.000000\n",
      "25%        71.065463\n",
      "50%        71.065463\n",
      "75%        71.065463\n",
      "max        79.000000\n",
      "Name: Rating, dtype: float64\n"
     ]
    },
    {
     "name": "stderr",
     "output_type": "stream",
     "text": [
      "C:\\Users\\amsaa\\anaconda3\\Lib\\site-packages\\seaborn\\_oldcore.py:1119: FutureWarning: use_inf_as_na option is deprecated and will be removed in a future version. Convert inf values to NaN before operating instead.\n",
      "  with pd.option_context('mode.use_inf_as_na', True):\n"
     ]
    },
    {
     "data": {
      "image/png": "[encoded data removed]",
      "text/plain": [
       "<Figure size 1000x600 with 1 Axes>"
      ]
     },
     "metadata": {},
     "output_type": "display_data"
    }
   ],
   "source": [
    "rating_summary = df['Rating'].describe()\n",
    "print(\"Rating Summary Statistics:\\n\", rating_summary)\n",
    "\n",
    "plt.figure(figsize=(10, 6))\n",
    "sns.histplot(df['Rating'], kde=True, bins=30)\n",
    "plt.title('Rating Distribution of Smartphones')\n",
    "plt.xlabel('Rating')\n",
    "plt.ylabel('Frequency')\n",
    "plt.show()\n",
    "\n"
   ]
  },
  {
   "cell_type": "markdown",
   "id": "20db1b50",
   "metadata": {},
   "source": [
    "<a id='conclusions'></a>\n",
    "# Conclusions"
   ]
  },
  {
   "cell_type": "markdown",
   "id": "c613457e",
   "metadata": {},
   "source": [
    "**Conclusions:**\n",
    "\n",
    "1. **Most Expensive and Least Expensive Smartphones:**\n",
    "   - The most expensive smartphone in the dataset is [Samsung Galaxy Z Fold 5 (12GB RAM + 1TB)] priced at [184999].\n",
    "   - The least expensive smartphone in the dataset is [Ringme R1 310] priced at [650].\n",
    "\n",
    "2. **Average Price of Smartphones:**\n",
    "   - The average price of smartphones in the dataset is [22570.351960784315].\n",
    "\n",
    "3. **Relationship Between Price and Rating:**\n",
    "   - There appears to be [weak or no linear correlation between the variables] correlation between the price and rating of smartphones in the dataset. \n",
    "\n",
    "4. **Price Variation Across Smartphone Models:**\n",
    "   - The price of smartphones varies significantly based on the model. \n",
    "   - [Shown in chart ].\n",
    "\n",
    "5. **Rating Distribution of Smartphones:**\n",
    "   - The rating distribution of smartphones in the dataset is.\n",
    "   - [Shown in chart].\n",
    "\n",
    "**Summary of Findings:**\n",
    "\n",
    "Upon analysis of the smartphone dataset, several key insights have been uncovered:\n",
    "\n",
    "- The dataset encompasses a wide range of smartphone models, with significant price discrepancies between the most expensive and least expensive models.\n",
    "- On average, smartphones in the dataset are priced at [22570.351960784315], indicating the presence of both budget-friendly and premium options.\n",
    "- The relationship between price and rating appears to [weak or no linear correlation between the variables] correlation, suggesting that higher-priced smartphones may not always correspond to higher ratings, and vice versa.\n",
    "- Notably, the price of smartphones varies significantly based on the model, indicating diverse pricing strategies within the market.\n",
    "- The rating distribution of smartphones.\n",
    "\n",
    "**Limitations:**\n",
    "\n",
    "It's important to acknowledge the limitations of this exploration:\n",
    "- The analysis is based solely on the provided dataset, which may not be representative of the entire smartphone market.\n",
    "- The correlation observed between price and rating does not imply causation, and other factors not included in the dataset may influence this relationship.\n",
    "- Statistical tests have not been conducted, so definitive conclusions regarding correlation or causation cannot be drawn.\n",
    "\n",
    "Overall, this exploration offers valuable insights into the pricing and rating dynamics of smartphones, providing a foundation for further research and analysis in this domain."
   ]
  }
 ],
 "metadata": {
  "kernelspec": {
   "display_name": "Python 3 (ipykernel)",
   "language": "python",
   "name": "python3"
  },
  "language_info": {
   "codemirror_mode": {
    "name": "ipython",
    "version": 3
   },
   "file_extension": ".py",
   "mimetype": "text/x-python",
   "name": "python",
   "nbconvert_exporter": "python",
   "pygments_lexer": "ipython3",
   "version": "3.11.5"
  }
 },
 "nbformat": 4,
 "nbformat_minor": 5
}
